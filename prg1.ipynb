{
 "cells": [
  {
   "cell_type": "code",
   "execution_count": null,
   "id": "5752a8be",
   "metadata": {},
   "outputs": [],
   "source": [
    "%pip install matplotlib"
   ]
  },
  {
   "cell_type": "code",
   "execution_count": 2,
   "id": "9df248b6",
   "metadata": {},
   "outputs": [
    {
     "ename": "IndentationError",
     "evalue": "unexpected indent (<ipython-input-2-6156440c603d>, line 7)",
     "output_type": "error",
     "traceback": [
      "\u001b[1;36m  File \u001b[1;32m\"<ipython-input-2-6156440c603d>\"\u001b[1;36m, line \u001b[1;32m7\u001b[0m\n\u001b[1;33m    plt.plot(ar1,ar2)\u001b[0m\n\u001b[1;37m    ^\u001b[0m\n\u001b[1;31mIndentationError\u001b[0m\u001b[1;31m:\u001b[0m unexpected indent\n"
     ]
    }
   ],
   "source": [
    "import math\n",
    "import sys\n",
    "import numpy as np \n",
    "import matplotlib.pyplot as plt\n",
    "ar1=np.array([10,15,25,30,35])\n",
    "ar2=np.array([1,2,3,4,5])\n",
    " plt.plot(ar1,ar2)\n",
    " plt.show"
   ]
  },
  {
   "cell_type": "code",
   "execution_count": null,
   "id": "80f9b78a",
   "metadata": {},
   "outputs": [],
   "source": [
    "print(help (numpy))"
   ]
  },
  {
   "cell_type": "code",
   "execution_count": null,
   "id": "22e5a3cb",
   "metadata": {},
   "outputs": [],
   "source": [
    "import numpy as np\n",
    "ar1=np.array([10,15,25,30,35])\n",
    "print(\"array is of type:\", ar1)\n"
   ]
  },
  {
   "cell_type": "code",
   "execution_count": null,
   "id": "eeeb7b7b",
   "metadata": {},
   "outputs": [],
   "source": [
    "from matplotlib import pyplot as plt\n",
    "plt.plot([1,2,3],[4,5,1])\n",
    "plt.show()"
   ]
  },
  {
   "cell_type": "code",
   "execution_count": 1,
   "id": "dc452701",
   "metadata": {},
   "outputs": [
    {
     "data": {
      "image/png": "[encoded data removed]",
      "text/plain": [
       "<Figure size 432x288 with 1 Axes>"
      ]
     },
     "metadata": {
      "needs_background": "light"
     },
     "output_type": "display_data"
    }
   ],
   "source": [
    "import math\n",
    "import sys\n",
    "import numpy as np \n",
    "from matplotlib import pyplot as plt\n",
    "ar1=np.array([10,15,25,30,35])\n",
    "ar2=np.array([1,2,3,4,5])\n",
    "plt.plot(ar1,ar2)\n",
    "plt.show()"
   ]
  },
  {
   "cell_type": "code",
   "execution_count": null,
   "id": "ad0815c7",
   "metadata": {},
   "outputs": [],
   "source": [
    "#from matplotlib import pyplot as plt\n",
    "x=[5,2,7]\n",
    "y=[2,16,4]\n",
    "plt.plot(x,y)\n",
    "plt.title(\"first infomation\")\n",
    "plt.xlabel(\"sales\")\n",
    "plt.ylabel(\"production\")\n",
    "plt.show()\n"
   ]
  },
  {
   "cell_type": "markdown",
   "id": "176c8a49",
   "metadata": {},
   "source": [
    "# Class\n",
    "## Python\n",
    "### heading example\n",
    "#### git & github"
   ]
  },
  {
   "cell_type": "code",
   "execution_count": 2,
   "id": "9a2c58de",
   "metadata": {},
   "outputs": [
    {
     "ename": "SyntaxError",
     "evalue": "invalid syntax (<ipython-input-2-e51d994bd875>, line 1)",
     "output_type": "error",
     "traceback": [
      "\u001b[1;36m  File \u001b[1;32m\"<ipython-input-2-e51d994bd875>\"\u001b[1;36m, line \u001b[1;32m1\u001b[0m\n\u001b[1;33m    <<h1>Heading</h1>\u001b[0m\n\u001b[1;37m    ^\u001b[0m\n\u001b[1;31mSyntaxError\u001b[0m\u001b[1;31m:\u001b[0m invalid syntax\n"
     ]
    }
   ],
   "source": [
    " "
   ]
  },
  {
   "cell_type": "code",
   "execution_count": 4,
   "id": "f885e5c8",
   "metadata": {},
   "outputs": [
    {
     "ename": "SyntaxError",
     "evalue": "invalid syntax (<ipython-input-4-859463609157>, line 1)",
     "output_type": "error",
     "traceback": [
      "\u001b[1;36m  File \u001b[1;32m\"<ipython-input-4-859463609157>\"\u001b[1;36m, line \u001b[1;32m1\u001b[0m\n\u001b[1;33m    <h1>Heading</h1>\u001b[0m\n\u001b[1;37m    ^\u001b[0m\n\u001b[1;31mSyntaxError\u001b[0m\u001b[1;31m:\u001b[0m invalid syntax\n"
     ]
    }
   ],
   "source": [
    "<h1>Heading</h1>"
   ]
  },
  {
   "cell_type": "code",
   "execution_count": 5,
   "id": "12694fc7",
   "metadata": {},
   "outputs": [
    {
     "ename": "SyntaxError",
     "evalue": "invalid syntax (<ipython-input-5-d1dfa31149c1>, line 1)",
     "output_type": "error",
     "traceback": [
      "\u001b[1;36m  File \u001b[1;32m\"<ipython-input-5-d1dfa31149c1>\"\u001b[1;36m, line \u001b[1;32m1\u001b[0m\n\u001b[1;33m    <p>Text attributes <em>italic</em>,\u001b[0m\n\u001b[1;37m    ^\u001b[0m\n\u001b[1;31mSyntaxError\u001b[0m\u001b[1;31m:\u001b[0m invalid syntax\n"
     ]
    }
   ],
   "source": [
    "<p>Text attributes <em>italic</em>,\n",
    "<strong>bold</strong>, <code>monospace</code>. Some implementations may use <i>single-asterisks</i> for italic text.</p>\n",
    "\n",
    "<p>Horizontal rule:</p>\n",
    "\n",
    "<hr />\n",
    "\n",
    "<p>Strikethrough:</p>\n",
    "<strike>strikethrough</strike>"
   ]
  },
  {
   "cell_type": "code",
   "execution_count": 6,
   "id": "c8d843c0",
   "metadata": {},
   "outputs": [
    {
     "ename": "SyntaxError",
     "evalue": "invalid syntax (<ipython-input-6-736752a47174>, line 1)",
     "output_type": "error",
     "traceback": [
      "\u001b[1;36m  File \u001b[1;32m\"<ipython-input-6-736752a47174>\"\u001b[1;36m, line \u001b[1;32m1\u001b[0m\n\u001b[1;33m    <h1>Heading</h1>\u001b[0m\n\u001b[1;37m    ^\u001b[0m\n\u001b[1;31mSyntaxError\u001b[0m\u001b[1;31m:\u001b[0m invalid syntax\n"
     ]
    }
   ],
   "source": [
    "<h1>Heading</h1>\n",
    "\n",
    "<h2>Sub-heading</h2>\n",
    "\n",
    "<p>Paragraphs are separated\n",
    "by a blank line.</p>\n",
    "\n",
    "<p>Two spaces at the end of a line<br />\n",
    "produce a line break.</p>"
   ]
  },
  {
   "cell_type": "code",
   "execution_count": 8,
   "id": "c7924d33",
   "metadata": {},
   "outputs": [
    {
     "ename": "SyntaxError",
     "evalue": "invalid syntax (<ipython-input-8-7dc4ece94e1d>, line 1)",
     "output_type": "error",
     "traceback": [
      "\u001b[1;36m  File \u001b[1;32m\"<ipython-input-8-7dc4ece94e1d>\"\u001b[1;36m, line \u001b[1;32m1\u001b[0m\n\u001b[1;33m    <p>An <a href=\"https://en.wikipedia.org>example</a>.</p>\u001b[0m\n\u001b[1;37m    ^\u001b[0m\n\u001b[1;31mSyntaxError\u001b[0m\u001b[1;31m:\u001b[0m invalid syntax\n"
     ]
    }
   ],
   "source": [
    "<p>An <a href=\"https://en.wikipedia.org>example</a>.</p>"
   ]
  },
  {
   "cell_type": "code",
   "execution_count": null,
   "id": "276eb448",
   "metadata": {},
   "outputs": [],
   "source": []
  }
 ],
 "metadata": {
  "kernelspec": {
   "display_name": "Python 3",
   "language": "python",
   "name": "python3"
  },
  "language_info": {
   "codemirror_mode": {
    "name": "ipython",
    "version": 3
   },
   "file_extension": ".py",
   "mimetype": "text/x-python",
   "name": "python",
   "nbconvert_exporter": "python",
   "pygments_lexer": "ipython3",
   "version": "3.8.8"
  }
 },
 "nbformat": 4,
 "nbformat_minor": 5
}
